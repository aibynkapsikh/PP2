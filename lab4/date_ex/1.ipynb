{
 "cells": [
  {
   "cell_type": "markdown",
   "metadata": {},
   "source": [
    "Write a Python program to subtract five days from current date.\n",
    "\n"
   ]
  },
  {
   "cell_type": "code",
   "execution_count": null,
   "metadata": {},
   "outputs": [
    {
     "name": "stdout",
     "output_type": "stream",
     "text": [
      "Current Date: 2025-02-21\n",
      "Date 5 Days Ago: 2025-02-16\n"
     ]
    }
   ],
   "source": [
    "from datetime import datetime, timedelta\n",
    "\n",
    "\n",
    "current_date = datetime.today()\n",
    "\n",
    "\n",
    "new_date = current_date - timedelta(days=5)\n",
    "\n",
    "print(\"Current Date:\", current_date.strftime(\"%Y-%m-%d\"))\n",
    "print(\"Date 5 Days Ago:\", new_date.strftime(\"%Y-%m-%d\"))\n"
   ]
  },
  {
   "cell_type": "markdown",
   "metadata": {},
   "source": [
    "Write a Python program to print yesterday, today, tomorrow."
   ]
  },
  {
   "cell_type": "code",
   "execution_count": 3,
   "metadata": {},
   "outputs": [
    {
     "name": "stdout",
     "output_type": "stream",
     "text": [
      "Yesterday: 2025-02-20\n",
      "Today:    2025-02-21\n",
      "Tomorrow: 2025-02-22\n"
     ]
    }
   ],
   "source": [
    "from datetime import datetime, timedelta\n",
    "\n",
    "today = datetime.today()\n",
    "\n",
    "yesterday = today - timedelta(days=1)\n",
    "tomorrow = today + timedelta(days=1)\n",
    "\n",
    "print(\"Yesterday:\", yesterday.strftime(\"%Y-%m-%d\"))\n",
    "print(\"Today:   \", today.strftime(\"%Y-%m-%d\"))\n",
    "print(\"Tomorrow:\", tomorrow.strftime(\"%Y-%m-%d\"))\n"
   ]
  },
  {
   "cell_type": "markdown",
   "metadata": {},
   "source": [
    "Write a Python program to drop microseconds from datetime."
   ]
  },
  {
   "cell_type": "code",
   "execution_count": 4,
   "metadata": {},
   "outputs": [
    {
     "name": "stdout",
     "output_type": "stream",
     "text": [
      "Original Datetime: 2025-02-21 22:20:57.009917\n",
      "Datetime without Microseconds: 2025-02-21 22:20:57\n"
     ]
    }
   ],
   "source": [
    "from datetime import datetime\n",
    "\n",
    "current_datetime = datetime.now()\n",
    "\n",
    "new_datetime = current_datetime.replace(microsecond=0)\n",
    "\n",
    "print(\"Original Datetime:\", current_datetime)\n",
    "print(\"Datetime without Microseconds:\", new_datetime)\n"
   ]
  },
  {
   "cell_type": "markdown",
   "metadata": {},
   "source": [
    "Write a Python program to calculate two date difference in seconds."
   ]
  },
  {
   "cell_type": "code",
   "execution_count": 5,
   "metadata": {},
   "outputs": [
    {
     "name": "stdout",
     "output_type": "stream",
     "text": [
      "Difference in seconds: 441000.0\n"
     ]
    }
   ],
   "source": [
    "from datetime import datetime\n",
    "\n",
    "date1 = datetime(2024, 2, 10, 12, 0, 0) \n",
    "date2 = datetime(2024, 2, 15, 14, 30, 0) \n",
    "\n",
    "difference = abs((date2 - date1).total_seconds())\n",
    "\n",
    "print(\"Difference in seconds:\", difference)\n"
   ]
  }
 ],
 "metadata": {
  "kernelspec": {
   "display_name": "Python 3",
   "language": "python",
   "name": "python3"
  },
  "language_info": {
   "codemirror_mode": {
    "name": "ipython",
    "version": 3
   },
   "file_extension": ".py",
   "mimetype": "text/x-python",
   "name": "python",
   "nbconvert_exporter": "python",
   "pygments_lexer": "ipython3",
   "version": "3.12.5"
  }
 },
 "nbformat": 4,
 "nbformat_minor": 2
}
